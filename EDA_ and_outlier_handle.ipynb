{
 "cells": [
  {
   "cell_type": "code",
   "execution_count": 37,
   "id": "a2315b26-379f-42e4-9754-80a1fdbc6f94",
   "metadata": {},
   "outputs": [
    {
     "data": {
      "text/html": [
       "        <script type=\"text/javascript\">\n",
       "        window.PlotlyConfig = {MathJaxConfig: 'local'};\n",
       "        if (window.MathJax) {MathJax.Hub.Config({SVG: {font: \"STIX-Web\"}});}\n",
       "        if (typeof require !== 'undefined') {\n",
       "        require.undef(\"plotly\");\n",
       "        requirejs.config({\n",
       "            paths: {\n",
       "                'plotly': ['https://cdn.plot.ly/plotly-2.6.3.min']\n",
       "            }\n",
       "        });\n",
       "        require(['plotly'], function(Plotly) {\n",
       "            window._Plotly = Plotly;\n",
       "        });\n",
       "        }\n",
       "        </script>\n",
       "        "
      ]
     },
     "metadata": {},
     "output_type": "display_data"
    }
   ],
   "source": [
    "import numpy as np\n",
    "import pandas as pd\n",
    "import matplotlib.pyplot as plt\n",
    "import re\n",
    "import seaborn as sns\n",
    "import plotly.express as px\n",
    "import plotly.graph_objs as go\n",
    "from plotly.offline import init_notebook_mode, iplot\n",
    "from warnings import filterwarnings\n",
    "filterwarnings(\"ignore\")\n",
    "init_notebook_mode(connected=True)            "
   ]
  },
  {
   "cell_type": "code",
   "execution_count": 38,
   "id": "003f5fc6-9acc-4a7c-a762-9759c382a1bb",
   "metadata": {},
   "outputs": [
    {
     "data": {
      "text/plain": [
       "9223372036854775807"
      ]
     },
     "execution_count": 38,
     "metadata": {},
     "output_type": "execute_result"
    }
   ],
   "source": [
    "import sys\n",
    "import csv\n",
    "csv.field_size_limit(sys.maxsize)"
   ]
  },
  {
   "cell_type": "code",
   "execution_count": 39,
   "id": "f5204e45-faa4-4215-b877-077b83754e5a",
   "metadata": {},
   "outputs": [
    {
     "data": {
      "text/html": [
       "<div>\n",
       "<style scoped>\n",
       "    .dataframe tbody tr th:only-of-type {\n",
       "        vertical-align: middle;\n",
       "    }\n",
       "\n",
       "    .dataframe tbody tr th {\n",
       "        vertical-align: top;\n",
       "    }\n",
       "\n",
       "    .dataframe thead th {\n",
       "        text-align: right;\n",
       "    }\n",
       "</style>\n",
       "<table border=\"1\" class=\"dataframe\">\n",
       "  <thead>\n",
       "    <tr style=\"text-align: right;\">\n",
       "      <th></th>\n",
       "      <th>summary</th>\n",
       "      <th>article</th>\n",
       "    </tr>\n",
       "  </thead>\n",
       "  <tbody>\n",
       "    <tr>\n",
       "      <th>0</th>\n",
       "      <td>ब्लैकबेरी हैंडसेट बनाने वाली कनाडा की कंपनी रि...</td>\n",
       "      <td>ब्लैकबेरी हैंडसेट बनाने वाली कनाडा की कंपनी रि...</td>\n",
       "    </tr>\n",
       "    <tr>\n",
       "      <th>1</th>\n",
       "      <td>श्रद्धांजलि सभा के दौरान अचानक खराब हुई हिलेरी...</td>\n",
       "      <td>अमेरिका में राष्ट्रपति पद के लिए डेमोक्रेटिक प...</td>\n",
       "    </tr>\n",
       "    <tr>\n",
       "      <th>2</th>\n",
       "      <td>पूर्व भारतीय कप्तान अनिल कुंबले का मानना है कि...</td>\n",
       "      <td>पूर्व भारतीय क्रिकेट कप्तान अनिल कुंबले का मान...</td>\n",
       "    </tr>\n",
       "    <tr>\n",
       "      <th>3</th>\n",
       "      <td>इंडिगो के ग्राउंड स्टाफ ने यात्री से की हाथापा...</td>\n",
       "      <td>इंडिगो एयरलाइन के प्रेसीडेंट और डायरेक्टर आदित...</td>\n",
       "    </tr>\n",
       "    <tr>\n",
       "      <th>4</th>\n",
       "      <td>मीजान जाफरी ने किया खुलासा\\r\\nनव्या नंदा को बत...</td>\n",
       "      <td>संजय लीला भंसाली की फिल्म 'मलाल' से बॉलीवुड मे...</td>\n",
       "    </tr>\n",
       "  </tbody>\n",
       "</table>\n",
       "</div>"
      ],
      "text/plain": [
       "                                             summary  \\\n",
       "0  ब्लैकबेरी हैंडसेट बनाने वाली कनाडा की कंपनी रि...   \n",
       "1  श्रद्धांजलि सभा के दौरान अचानक खराब हुई हिलेरी...   \n",
       "2  पूर्व भारतीय कप्तान अनिल कुंबले का मानना है कि...   \n",
       "3  इंडिगो के ग्राउंड स्टाफ ने यात्री से की हाथापा...   \n",
       "4  मीजान जाफरी ने किया खुलासा\\r\\nनव्या नंदा को बत...   \n",
       "\n",
       "                                             article  \n",
       "0  ब्लैकबेरी हैंडसेट बनाने वाली कनाडा की कंपनी रि...  \n",
       "1  अमेरिका में राष्ट्रपति पद के लिए डेमोक्रेटिक प...  \n",
       "2  पूर्व भारतीय क्रिकेट कप्तान अनिल कुंबले का मान...  \n",
       "3  इंडिगो एयरलाइन के प्रेसीडेंट और डायरेक्टर आदित...  \n",
       "4  संजय लीला भंसाली की फिल्म 'मलाल' से बॉलीवुड मे...  "
      ]
     },
     "metadata": {},
     "output_type": "display_data"
    },
    {
     "name": "stdout",
     "output_type": "stream",
     "text": [
      "<class 'pandas.core.frame.DataFrame'>\n",
      "RangeIndex: 86298 entries, 0 to 86297\n",
      "Data columns (total 2 columns):\n",
      " #   Column   Non-Null Count  Dtype \n",
      "---  ------   --------------  ----- \n",
      " 0   summary  86298 non-null  object\n",
      " 1   article  86298 non-null  object\n",
      "dtypes: object(2)\n",
      "memory usage: 1.3+ MB\n"
     ]
    },
    {
     "data": {
      "text/plain": [
       "None"
      ]
     },
     "metadata": {},
     "output_type": "display_data"
    }
   ],
   "source": [
    "data = pd.read_csv(\"data/data.csv\",encoding = \"utf-8\", engine = \"python\")\n",
    "display(data.head())\n",
    "display(data.info())"
   ]
  },
  {
   "cell_type": "code",
   "execution_count": 40,
   "id": "b9eb2bc5-9304-4502-a8dd-5e45aafad10a",
   "metadata": {},
   "outputs": [],
   "source": [
    "summary_lengths = data.summary.map(lambda x: len(x.split(\" \")))\n",
    "article_lengths = data.article.map(lambda x: len(x.split(\" \")))"
   ]
  },
  {
   "cell_type": "code",
   "execution_count": 41,
   "id": "4a583b27-712f-4cf8-affc-c5b626ff0b3f",
   "metadata": {},
   "outputs": [
    {
     "data": {
      "text/plain": [
       "<AxesSubplot:xlabel='summary'>"
      ]
     },
     "execution_count": 41,
     "metadata": {},
     "output_type": "execute_result"
    },
    {
     "data": {
      "image/png": "[encoded data removed]",
      "text/plain": [
       "<Figure size 864x504 with 4 Axes>"
      ]
     },
     "metadata": {
      "needs_background": "light"
     },
     "output_type": "display_data"
    }
   ],
   "source": [
    "plt.figure(figsize=(12,7))\n",
    "plt.subplot(2,2,1)\n",
    "sns.kdeplot(article_lengths)\n",
    "plt.subplot(2,2,2)\n",
    "sns.boxplot(article_lengths)\n",
    "plt.subplot(2,2,3)\n",
    "sns.kdeplot(summary_lengths)\n",
    "plt.subplot(2,2,4)\n",
    "sns.boxplot(summary_lengths)"
   ]
  },
  {
   "cell_type": "code",
   "execution_count": 42,
   "id": "fae63ef3-c656-401f-afa2-8bcf8e74a3d7",
   "metadata": {},
   "outputs": [
    {
     "name": "stdout",
     "output_type": "stream",
     "text": [
      "10 percentile of article 46.0\n",
      "20 percentile of article 108.0\n",
      "30 percentile of article 167.0\n",
      "40 percentile of article 229.0\n",
      "50 percentile of article 297.0\n",
      "60 percentile of article 374.0\n",
      "70 percentile of article 496.0\n",
      "80 percentile of article 698.0\n",
      "90 percentile of article 1127.0\n",
      "100 percentile of article 226035.0\n"
     ]
    }
   ],
   "source": [
    "for i in range(10,101,10):\n",
    "    print(i , \"percentile of article\",np.percentile(article_lengths,i))"
   ]
  },
  {
   "cell_type": "code",
   "execution_count": 43,
   "id": "798db71b-c791-4bc3-bf83-4d2886885908",
   "metadata": {},
   "outputs": [
    {
     "name": "stdout",
     "output_type": "stream",
     "text": [
      "90 percentile of article 1127.0\n",
      "91 percentile of article 1201.0\n",
      "92 percentile of article 1294.0\n",
      "93 percentile of article 1397.0\n",
      "94 percentile of article 1529.0\n",
      "95 percentile of article 1708.0\n",
      "96 percentile of article 1934.0\n",
      "97 percentile of article 2267.0\n",
      "98 percentile of article 2827.2399999999907\n",
      "99 percentile of article 4035.209999999992\n",
      "100 percentile of article 226035.0\n"
     ]
    }
   ],
   "source": [
    "for i in range(90,101):\n",
    "    print(i , \"percentile of article\",np.percentile(article_lengths,i))"
   ]
  },
  {
   "cell_type": "code",
   "execution_count": 21,
   "id": "8737de07-d78a-4051-b1e4-95708a3fb7cb",
   "metadata": {},
   "outputs": [
    {
     "name": "stdout",
     "output_type": "stream",
     "text": [
      "99.0 percentile of article 4035.209999999992\n",
      "99.1 percentile of article 4280.981000000014\n",
      "99.19999999999999 percentile of article 4524.119999999981\n",
      "99.29999999999998 percentile of article 4802.762999999963\n",
      "99.39999999999998 percentile of article 5102.217999999979\n",
      "99.49999999999997 percentile of article 5525.239999999525\n",
      "99.59999999999997 percentile of article 5973.059999999881\n",
      "99.69999999999996 percentile of article 6637.7629999997735\n",
      "99.79999999999995 percentile of article 7490.217999999877\n",
      "99.89999999999995 percentile of article 9047.108999999851\n"
     ]
    }
   ],
   "source": [
    "for i in np.arange(99,100,.1):\n",
    "    print(i , \"percentile of article\",np.percentile(article_lengths,i))"
   ]
  },
  {
   "cell_type": "code",
   "execution_count": 21,
   "id": "d910b73c-3643-4fc0-bb58-7d8ff5f3db6e",
   "metadata": {},
   "outputs": [
    {
     "name": "stdout",
     "output_type": "stream",
     "text": [
      "छात्रा का मुंह दबाकर पम्प रूम में ले गया था आरोपी\n",
      "बच्ची को धमकाया कि वह इस बारे में किसी को कुछ न बताए\n",
      "चिकित्सकों ने बताया कि बच्ची का यौन उत्पीड़न हुआ\n",
      "----------------------------------------------------------------------------------------------------\n",
      "6 year old girl raped in a school in Delhi. Strongest action should be taken against culprit who should be hanged within 6 months under the new law. DCW is issuing notice to Delhi Police and school authority - to ascertain safety measures implemented in the school.\n",
      "(इनपुट भाषा से भी)ंकड़ों के मुताबिक इस वर्ष के पहले चार महीनों में राष्ट्रीय राजधानी में प्रतिदिन दो से अधिक संख्या में बच्चे बलात्कार के शिकार हुए हैं.\n",
      "सीबीआई ने इंटरपोल को दिए हैं दस्तावेज, इसी के आधार पर जारी होगा नोटिस\n",
      "नीरव मोदी पर करोड़ों रुपये की धोखाधड़ी का आरोप है\n",
      "भारत सरकार ने किया है भगौड़ा घोषित\n",
      "----------------------------------------------------------------------------------------------------\n",
      "उन्होंने कहा कि सीबीआई ने 15 फरवरी को इंटरपोल के जरिये जारी ‘ डिफ्यूजन नोटिस ’ के माध्यम से नीरव मोदी के आवागमन का पता करने का प्रयास किया लेकिन उसे सीमित जानकारी ही मिल पायी क्योंकि केवल ब्रिटेन ने सीबीआई के आग्रह पर जानकारी दी. (इनपुट भाषा से)\n",
      "कपिल शर्मा की गर्लफ्रेंड ने ट्विटर पर दी सुनील को जन्‍मदिन की बधाई \n",
      "गिन्नी चतरथ ने कहा जल्‍द ही दर्शकों को मिलेगी गुड न्‍यूज\n",
      "झगड़े के बाद से कपिल के शो में नहीं नजर आ रहे सुनील ग्रोवर\n",
      "----------------------------------------------------------------------------------------------------\n",
      "Officially Not confirmed by @WhoSunilGrover!! But @KapilSharmaK9 requested many time to join The show back. Soon will give you all Good news https://t.co/KWH9pRaAGk\n",
      "We love Mashoor Gulati\n",
      "#HappyBirthdaySunilGrover@WhoSunilGrover We really miss you. Apne chhote Bhai ki baat Maano Aur #Tkss mein waapas Aao. pic.twitter.com/Xq5ry03xYM\n",
      "Wish u a very happy birthday @WhoSunilGrover paji ... may god bless u with all the happiness of this world. Lots of love always :)\n",
      "मंजू वर्मा की गिरफ्तारी न होने पर SC ने जताई नाराजगी \n",
      "कोर्ट ने कहा- यह कमाल की बात है \n",
      "DGP और मुख्य सचिव को किया तलब\n",
      "----------------------------------------------------------------------------------------------------\n",
      "“Fantastic! cabinet minister (Manju Verma) on the run, fantastic. How could it happen that cabinet minister is absconding and nobody knows where she is. You realise the seriousness of the issue that cabinet minister is not traceable. It's too much,” observes Justice Madan B Lokur https://t.co/axfsANNEBO\n",
      "जम्मू कश्मीर पुलिस में 2700 पदों पर भर्तियां की जाएगी.\n",
      "ये भर्ती सिर्फ महिलाओं के लिए हैं. \n",
      "आवेदन की आखिरी तारीख 22 अक्टूबर है.\n",
      "----------------------------------------------------------------------------------------------------\n",
      "ऑफिशियल नोटिफिकेशन के लिए यहां क्लिक करें.\n",
      "सलमान खान पर कैलाश विजयवर्गीय के आरोप.\n",
      "किसान को पैसे देने का आरोप लगाया.\n",
      "कैलाश ने मीडिया पर भी निशाना साधा.\n",
      "----------------------------------------------------------------------------------------------------\n",
      "From past 2 days,TV channels are only talking about Salman Khan.He killed a deer&was punished, because a farmer of the village complained about it.Khan went with bundle of notes to the farmer,but he didn't sell himself.Channels aren't showing that farmer: Kailash Vijayvargiya,BJP pic.twitter.com/m73qSiVsOY\n",
      "एमएस धोनी की शानदार स्टंपिंग से हैरान हुए उपल थरंगा.\n",
      "उपल थरंगा 95 रन पर खेल रहे थे.\n",
      "सोशल मीडिया पर लोगों ने धोनी को बिजली से भी तेज बताया.\n",
      "----------------------------------------------------------------------------------------------------\n",
      "https://t.co/HRxD6XxnmF\n",
      "The crowd didn't get to see Dhoni bat, but they did witness the match winning stumping he pulled out of nowhere! Fair enough!! #INDvSL#Dhoni\n",
      "What a quick move frm MS Dhoni #stumping\n",
      "If you understand cricket even a little bit, you would know that Sri Lanka lost to Dhoni’s stumping. #IndvSL\n",
      "— Joanny Bert Gomez Jo (@joannybert) December 17, 2017viewing & checking after Dhoni has appealed for a stumping #IndvSL#MS_fast_as_Lighting\n",
      "Lion to roar next summer @msdhoni@ChennaiIPL\n",
      "Trust @msdhoni's wicketkeeping skills when India needs a wicket, he indeed never disappoints Brilliant stumping! #INDvsSL\n",
      "पहले बैटिंग करते हुए कोलकाता ने बनाए थे 202 रन \n",
      "ब‍िलिंग्‍स ने बनाया अर्धशतक, चेन्‍नई ने लक्ष्‍य 5 विकेट खोकर हासिल किया\n",
      "रसेल की 88 रन की पारी के बावजूद कोलकाता को मिली हार\n",
      "----------------------------------------------------------------------------------------------------\n",
      "यह भी पढ़ें: IPL 2018: चेन्नई सुपर किंग्स को मिला चोटिल केदार जाधव का विकल्प, लेकिन....\n",
      "देवरिया में अवैध तरीके से चल रहा था बालिका गृह \n",
      "किसी तरीके से भागकर लड़की पहुंची थाने \n",
      "लड़की की आपबीती पर पुलिस ने की छापेमारी\n",
      "----------------------------------------------------------------------------------------------------\n",
      "After CBI inspection last year, it was established that Deoria shelter home centre was running illegally. A direction was issued to shift the inmates and shut it. But this order was not followed: Rita Bahuguna Joshi, Women & Child Welfare Minister pic.twitter.com/QyylMfRjNv\n",
      "आज रात करेंगे शादी\n",
      "टीवी एक्ट्रेस हैं सोनिया कपूर\n",
      "पहली पत्नी से ले चुके हैं तलाक\n",
      "----------------------------------------------------------------------------------------------------\n",
      "Music composer - singer - actor Himesh Reshammiya to wed Sonia Kapoor in a simple ceremony at his residence today [11 May 2018]. The ceremony will be a close-knit family affair with just close family and friends.\n",
      "A post shared by Viral Bhayani (@viralbhayani) on May 11, 2018 at 4:32am PDT\n",
      "भारत के 500वें टेस्‍ट के पहले चुनी गई है यह टीम\n",
      "कोहली और गांगुली को इस टीम में स्‍थान नहीं मिला\n",
      "तेज गेंदबाजी में कपिल के सहयोगी हैं श्रीनाथ व जहीर\n",
      "----------------------------------------------------------------------------------------------------\n",
      "(हेडलाइन के अलावा, इस खबर को एनडीटीवी टीम ने संपादित नहीं किया है, यह सिंडीकेट फीड से सीधे प्रकाशित की गई है।)\n",
      "अपने जीजा को लॉन्च करने जा रहे सलमान खान\n",
      "लवरात्रि से डेब्यू करेंगे आयुष शर्मा\n",
      "सलमान खान के प्रोडक्शन हाउस में बन रही है मूवी\n",
      "----------------------------------------------------------------------------------------------------\n",
      "Feeling very happy to announce @SKFilmsOfficial productions ka 5th venture #Loveratri introducing @aaysharma directed by Abhiraj Minawala. More details soon\n",
      "Here comes the BIG ANNOUNCEMENT... Salman Khan introduces Aayush Sharma in Salman Khan Films' fifth venture, titled #Loveratri... Directed by Abhiraj Minawala... Casting of female lead underway... Here’s the official announcement: pic.twitter.com/sqwsTbQ7pd\n",
      "छत्तीसगढ़ के बीजापुर जिले के जंगला गांव में शुरू होगा वैलनेस सेंटर\n",
      "10 करोड़ गरीब परिवारों को हेल्थ कवरेज का वादा अधर में \n",
      "बीमा योजना से पहले प्राथमिक स्वास्थ्य को बेहतर बनाना जरूरी : नीति आयोग\n",
      "----------------------------------------------------------------------------------------------------\n",
      "द थर्ड वर्ल्ड नेटवर्क की सह संयोजक मालिनी आइसोला कहती हैं, \"सरकार अब आखिरकार ये समझ रही है कि जिस बीमा योजना का उन्होंने ऐलान किया उसे लागू करना व्यवहारिक ही नहीं है. उन्होंने एक महत्वाकांक्षी योजना लॉन्च तो कर दी पर उसके बारे में पहले सोचा नहीं. वो इसे यूनिवर्सल हेल्थ कवरेज कह रहे हैं पर ये भी सच नहीं है क्योंकि इसमें 40 प्रतिशत जनता ही कवर होती है.\"\n",
      "दिल्ली के मोतीनगर में कांवड़ियों ने भारी उपद्रव किया था\n",
      "आरोपी राहुल उर्फ बिल्ला उत्तम नगर का रहने वाला\n",
      "बिल्ला के खिलाफ घर में चोरी करने का केस पहले से दर्ज है\n",
      "----------------------------------------------------------------------------------------------------\n",
      "वीडियो में यह भी दिख रहा है कि किस तरह से उपद्रवी खुद भी वीडियो बना रहे हैं और कार के साथ सेल्फी भी ले रहे हैं. इस वारदात के वक़्त पीड़ित लड़की इस कदर डर गई कि उसने मेट्रो स्टेशन के अंदर घुसकर अपनी जान बचाई. उसने पुलिस में कोई शिकायत नहीं दी. आठ अगस्त को दिल्ली पुलिस ने खुद संज्ञान लेकर अज्ञात लोगों के खिलाफ आईपीसी के सेक्शन 341/427/34 के तहत मामला दर्ज किया. पुलिस ने एफआईआर में दंगा करने की धाराएं और जोड़ दी हैं जो गैरजमानती हैं.\n",
      "'ठग्स ऑफ हिंदोस्तान' को रफ एंड टफ फिल्म मानते हैं बिग बी\n",
      "पहली बार 'ठग्स ऑफ हिंदोस्तान' में साथ दिखेंगे अमिताभ और आमिर\n",
      "दिवाली 2018 पर रिलीज होगी विजय कृष्ण आचार्य निर्देशित यह फिल्म\n",
      "----------------------------------------------------------------------------------------------------\n",
      "T 2467 - Back from work on TOH .. it is rough and tough ! But when ever did anyone gain without it .. pic.twitter.com/PGEkU8BYq3\n",
      "THUGS OF HINDOSTAN in a short respite from the gruelling shoot in Malta\n",
      "A post shared by Amitabh Bachchan (@amitabhbachchan) on Jun 25, 2017 at 2:12am PDT\n",
      "काले धन के मुद्दे पर विपक्षी पार्टी बीजेपी के नेता लाल कृष्ण आडवाणी का कार्य स्थगन प्रस्ताव लोकसभा में ध्वनिमत से नामंजूर हो गया।\n",
      "----------------------------------------------------------------------------------------------------\n",
      "भारतीय जनता पार्टी (भाजपा) की ओर से काले धन के मुद्दे पर लाया गया कार्य स्थगन प्रस्ताव बुधवार को ध्वनि मत से गिर गया।  भाजपा की ओर से उसके वरिष्ठ नेता लालकृष्ण आडवाणी ने यह प्रस्ताव रखा था, जिस पर तकरीबन छह घंटे तक बहस हुई।  यह प्रस्ताव विदेशी बैंकों में अवैध रूप से जमा कराए गए धन से पैदा हो रही स्थिति और दोषी व्यक्तियों के खिलाफ की गई कार्रवाई के सम्बंध में था।  बहस के बाद सदन में मौजूद अधिकांश सदस्यों ने प्रस्ताव को ध्वनि मत से खारिज कर दिया।\n",
      "भारत-चीन के वित्त मंत्रियों की बैठक 27 जून को होने वाली थी\n",
      "रद्द होने की वजह एनएसजी विवाद को बताया जा रहा है\n",
      "वित्तमंत्री के तौर पर जेटली का पहला चीन दौरा\n",
      "----------------------------------------------------------------------------------------------------\n",
      "गौरतलब है कि वित्तमंत्री बनने के बाद यह अरुण जेटली का पहला चीन दौरा है और इस दौरान उनकी निवेशकों और बैंकरों से भारत में निवेश संबंधित मसले पर बात होनी है। साथ ही कार्यक्रम में चीन द्वारा प्रायोजित एशियन इन्फ्रास्ट्रक्चर इन्वेस्टमेंट बैंक (AIIB) के गवर्नरों से मुलाकात भी है जिसमें भारत के अलावा 56 देश सदस्य हैं।\n",
      "अभिषेक की बेटी आराध्या का बर्थडे\n",
      "दादा बिग बी ने लिखा मैसज\n",
      "अभिषेक ने भी शेयर की फोटो\n",
      "----------------------------------------------------------------------------------------------------\n",
      "A post shared by Abhishek Bachchan (@bachchan) on Nov 15, 2018 at 8:31pm PST\n",
      "महिला दिवस के मौके पर केजरीवाल ने साधा पीएम मोदी पर निशाना\n",
      "महिलाओं को अपशब्द कहने वालों को फॉलो करना बंद करें पीएम\n",
      "ऐसे लोगों के खिलाफ सख्त कार्रवाई की मांग भी की\n",
      "----------------------------------------------------------------------------------------------------\n",
      "Happy women's day to all. On this day, I urge Hon'ble PM to unfollow all those who abuse n threaten women n take strong action against them\n",
      "— Gurmehar Kaur (@mehartweets) March 8, 2017o.पी के खिलाफ काफी मुखर दिखे. उन्होंने छात्रा गुलमेहर कौर के समर्थन में कई ट्वीट किए थे. आज भी महिला दिवस के मौके पर उन्होंने गुरमेहर कौर के ट्वीट को री-ट्वीट किया है.\n",
      "Happy Women's Day #IWD2017#IWDbecame the hero.\n",
      "संदीप पाटिल हाल ही में मुख्य चयनकर्ता के पद से रिटायर हुए हैं\n",
      "उन्होंने सचिन तेंदुलकर और धोनी के बारे में कई खुलासे किए हैं \n",
      "ठाकुर ने मुख्य चयनकर्ता के रूप में प्रसाद के चयन का भी बचाव किया\n",
      "----------------------------------------------------------------------------------------------------\n",
      "बोर्ड प्रमुख ने कहा, ‘‘मुझे खुशी है कि 99.9 प्रतिशत (आवेदनकर्ताओं) ने कहा कि वे कम से कम पांच सदस्यीय चयन पैनल चाहते हैं. भारत इतना बड़ा देश है आप तीन चयनकर्ताओं से अपने पद के प्रति न्याय की उम्मीद कैसे कर सकते हो. इनकी संख्या कम से कम पांच होनी चाहिए.’’(हेडलाइन के अलावा, इस खबर को एनडीटीवी टीम ने संपादित नहीं किया है, यह सिंडीकेट फीड से सीधे प्रकाशित की गई है।)\n",
      "(हेडलाइन के अलावा, इस खबर को एनडीटीवी टीम ने संपादित नहीं किया है, यह सिंडीकेट फीड से सीधे प्रकाशित की गई है।)\n"
     ]
    }
   ],
   "source": [
    "a = data.iloc[article_lengths[article_lengths <100 ].index]\n",
    "for x in a.sample(20).index:\n",
    "    print(data.iloc[x].summary)\n",
    "    print(\"-\"*100)\n",
    "    print(data.iloc[x].article)"
   ]
  },
  {
   "cell_type": "code",
   "execution_count": 24,
   "id": "04959221-87e3-42e4-8a96-49822748451a",
   "metadata": {},
   "outputs": [
    {
     "name": "stdout",
     "output_type": "stream",
     "text": [
      "मनीष सिन्हा ने अजित डोभाल पर लगाए गंभीर आरोप\n",
      "कहा- एनएसए ने अस्थाना के ख़िलाफ़ छापेमारी रुकवाई\n",
      "सिन्हा ने विधि सचिव पर भी लगाए सनसनीखेज आरोप\n",
      "----------------------------------------------------------------------------------------------------\n",
      "हालांकि मुख्य न्यायाधीश ने कहा, अब हम किसी बात से नहीं चौंकते. सीजेआई रंजन गोगोई ने मनीष सिन्हा की अर्जी पर फौरन सुनवाई की ज़रूरत से भी इनकार कर दिया. CJI ने मनीष कुमार सिन्हा की याचिका पर कहा कि आपकी याचिका लिस्ट नहीं होगी, लेकिन मंगलवार की सुनवाई में आप मौजूद रहें. आपको बता दे कि इससे पहले सीबीआई अधिकारी एके बस्सी को अपने ट्रांसफर के खिलाफ दायर याचिका पर सुप्रीम कोर्ट में सुनवाई के दौरान 'वहां कुछ दिन रहने' की सलाह मिली थी. बस्सी का अंडमान निकोबार तबादला कर दिया गया था. इसके बाद बस्सी ने अपने तबादले को सुप्रीम कोर्ट में चुनौती दी थी, लेकिन वे सुप्रीम कोर्ट से अपने तबादले पर रोक लगवाने में नाकाम रहे.\n",
      "----------------------------------------------------------------------------------------------------\n",
      "जम्मू-कश्मीर के किश्तवाड़ स्थित अपने ससुराल में छोटे करियर वाली एक अभिनेत्री ने फांसी लगाकर कथित रूप से खुदकुशी कर ली।\n",
      "----------------------------------------------------------------------------------------------------\n",
      "पुलिस ने कहा कि आठ माह पहले शादी रचाने वाली 22 वर्षीय सुमन राठौर ने किश्तवाड़ के पोछल में अपने ससुराल में शुक्रवार को फांसी लगाकर आत्महत्या कर ली। सुमन के माता-पिता ने पुलिस में शिकायत दर्ज कराई है, जिसमें आरोप लगाया गया है कि इस अभिनेत्री की हत्या की गई है।\n",
      "पुलिस ने कहा कि आठ माह पहले शादी रचाने वाली 22 वर्षीय सुमन राठौर ने किश्तवाड़ के पोछल में अपने ससुराल में शुक्रवार को फांसी लगाकर आत्महत्या कर ली। सुमन के माता-पिता ने पुलिस में शिकायत दर्ज कराई है, जिसमें आरोप लगाया गया है कि इस अभिनेत्री की हत्या की गई है।\n",
      "----------------------------------------------------------------------------------------------------\n",
      "इस दरबार में अलग−अलग ज़िलों से सैंकड़ों लोग अपनी फ़रियाद लेकर पहुंचते हैं। यह जनता दरबार मुख्यमंत्री आवास पर हर बुधवार को लगा करेगा। इसमें मुख्यमंत्री आम लोगों की समस्याओं पर गौर करेंगे।\n",
      "----------------------------------------------------------------------------------------------------\n",
      "इस दरबार में अलग−अलग ज़िलों से सैंकड़ों लोग अपनी फ़रियाद लेकर पहुंचते हैं। यह जनता दरबार मुख्यमंत्री आवास पर हर बुधवार को लगा करेगा। इसमें मुख्यमंत्री आम लोगों की समस्याओं पर गौर करेंगे। यूपी में चुनाव प्रचार के दौरान सपा ने यह वादा किया था कि वह जनता दरबार का सिलसिला फिर से शुरू करेंगे। इससे पहले मुलायम सिंह जब मुख्यमंत्री थे तब भी जनता दरबार लगा करता थे लेकिन मायावती के शासन काल में इसे बंद कर दिया गया।\n",
      "इस दरबार में अलग−अलग ज़िलों से सैंकड़ों लोग अपनी फ़रियाद लेकर पहुंचते हैं। यह जनता दरबार मुख्यमंत्री आवास पर हर बुधवार को लगा करेगा। इसमें मुख्यमंत्री आम लोगों की समस्याओं पर गौर करेंगे। यूपी में चुनाव प्रचार के दौरान सपा ने यह वादा किया था कि वह जनता दरबार का सिलसिला फिर से शुरू करेंगे। इससे पहले मुलायम सिंह जब मुख्यमंत्री थे तब भी जनता दरबार लगा करता थे लेकिन मायावती के शासन काल में इसे बंद कर दिया गया।\n",
      "----------------------------------------------------------------------------------------------------\n",
      "विकीलीक्स के खुलासे पर यूपी की मुख्यमंत्री मायावती ने प्रेस कॉन्फ्रेंस करके कहा है कि विकीलीक्स का मालिक पागल हो गया है।\n",
      "----------------------------------------------------------------------------------------------------\n",
      "विकीलीक्स के खुलासे पर यूपी की मुख्यमंत्री मायावती ने प्रेस कॉन्फ्रेंस करके कहा है कि विकीलीक्स का मालिक पागल हो गया है। उसे पागलखाने भेज देना चाहिए। अगर उनकी सरकार के पास पागलखाने में जगह न हो तो हमारे आगरा के पागलखाने में भेज दें। मायावती ने साफ-साफ आरोप लगाया कि यह विरोधी पार्टियों की साजिश हैं और विकीलीक्स के साथ विरोध पार्टियां मिली हुई हैं। उन्होंने सतीश मिश्रा के बयान को भी बेबुनियाद बताया है।  इससे पहले विकीलीक्स ने मायावती को लेकर एक खुलासा किया था। इस खुलासे में अमेरिकी दूतावास को भेजे केबल के मुताबिक बीएसपी के राष्ट्रीय उपाध्यक्ष और राज्यसभा सांसद सतीश चंद्र मिश्रा ने मायावती को भ्रष्ट और तानाशाह बताया था। यह बात 29 मई 2007 की है, जब अमेरिकी अफसरों ने मिश्रा से बातचीत की थी। भेजे केबल के मुताबिक उन्होंने यह बात मायावती के शपथ लेने के 16 दिन बाद कही थी। मायावती को सत्ता दिलाने में सतीश चंद्र मिश्रा का अहम रोल रहा है।  यही नहीं विकीलीक्स ने अपने खुलासे में यह भी बताया कि मायावती ने अपने लिए खास किस्म के सैंडल मंगवाने के लिए मुंबई एक प्राइवेट जेट विमान भेजा था।\n",
      "----------------------------------------------------------------------------------------------------\n",
      "कोलकाता में RSS कार्यकर्ता को गोली मारी\n",
      "बीजेपी ने TMC पर लगाए आरोप \n",
      "हमलावरों की अभी तक पहचान नहीं हो पायी\n",
      "----------------------------------------------------------------------------------------------------\n",
      "उत्तर-पश्चिम बंगाल के गार्डेन रीच इलाके में सोमवार को अज्ञात व्यक्तियों द्वारा राष्ट्रीय स्वयंसेवक संघ (RSS)  के एक कार्यकर्ता को गोली मारने की घटना सामने आई है.  पुलिस ने बताया कि हमलावरों की अभी तक पहचान नहीं हो पायी है. भाजपा ने आरोप लगाया कि यह हमला तृणमूल कांग्रेस के कार्यकर्ताओं ने करवाया है और पुलिस दोषियों को बचाने की कोशिश कर रही है. पुलिस ने बताया कि सोमवार सुबह लगभग 10 बजे मोटरसाइकिल सवार दो लोगों ने बीर बहादुर सिंह को गोली मार दी थी.  उसे तुरन्त अस्पताल ले जाया गया जहां उसका इलाज चल रहा है. एक पुलिस अधिकारी ने कहा कि पुलिस मामले की जांच कर रही है.\n",
      "सिंह को क्षेत्र में एक प्रसिद्ध आरएसएस कार्यकर्ता के रूप में जाना जाता है. टीएमसी ने हमले में किसी भी तरह की संलिप्तता से इनकार किया है. भाजपा ने दोषियों को तुरंत गिरफ्तार करने की मांग की. पश्चिम बंगाल में भाजपा के प्रदेश अध्यक्ष दिलीप घोष ने कहा, ‘‘पश्चिम बंगाल में, हिंदू और हिंदुत्व संगठन खतरे में हैं और भगवान की दया से हम अभी तक बचे हुए हैं. हम ईश्वर से प्रार्थना करते हैं कि बीर बहादुर सिंह शीघ्र स्वस्थ हो.''\n",
      "----------------------------------------------------------------------------------------------------\n",
      "पाकिस्तान के अशांत उत्तरी वजीरिस्तान के कबाइली क्षेत्र में एक परिसर को निशाना बनाकर किए गए अमेरिकी ड्रोन के हमले में आज दस लोगों की मौत हो गई।\n",
      "----------------------------------------------------------------------------------------------------\n",
      "अधिकारियों ने टीवी समाचार चैनलों को बताया कि इस मानवरहित जासूसी विमान ने उत्तरी वजीरिस्तान के मुख्य शहर मिरनशाह से 10 किलोमीटर दूर तापी इलाके के एक परिसर में दो मिसाइल दागे।देते हुए कहा कि मारे गये लोग संदिग्ध आतंकी थे।\n",
      "अधिकारियों ने टीवी समाचार चैनलों को बताया कि इस मानवरहित जासूसी विमान ने उत्तरी वजीरिस्तान के मुख्य शहर मिरनशाह से 10 किलोमीटर दूर तापी इलाके के एक परिसर में दो मिसाइल दागे।\n",
      "----------------------------------------------------------------------------------------------------\n",
      "दिल्ली एनसीआर में सोमवार से अमूल का सिंगल टोन्ड और डबल टोन्ड दूध एक रुपये और फुल क्रीम दूध दो रुपये महंगा हो जाएगा।\n",
      "----------------------------------------------------------------------------------------------------\n",
      "सोमवार से अमूल का सिंगल टोन्ड और डबल टोन्ड दूध एक रुपये और फुल क्रीम दूध दो रुपये महंगा हो जाएगा। कंपनी ने कहा है कि बिजली की बढ़ती दरों और ट्रांसपोर्ट में आने वाली लागत को कम करने के लिए यह बढ़ोतरी की जा रही है। अमूल ने इससे पहले पिछले साल अगस्त में दिल्ली में दूध के दाम बढ़ाए थे।     जरिये इस बारे में सूचना दी गई है।\n",
      "सोमवार से अमूल का सिंगल टोन्ड और डबल टोन्ड दूध एक रुपये और फुल क्रीम दूध दो रुपये महंगा हो जाएगा। कंपनी ने कहा है कि बिजली की बढ़ती दरों और ट्रांसपोर्ट में आने वाली लागत को कम करने के लिए यह बढ़ोतरी की जा रही है। अमूल ने इससे पहले पिछले साल अगस्त में दिल्ली में दूध के दाम बढ़ाए थे।\n",
      "----------------------------------------------------------------------------------------------------\n",
      "संसद की लोक लेखा समिति ने कहा कि प्रसार भारती द्वारा बीसीसीआई के साथ किए गए गलत करार के कारण 3.39 करोड़ रुपये का नुकसान हुआ।\n",
      "----------------------------------------------------------------------------------------------------\n",
      "संसद की लोक लेखा समिति (पीएसी) ने सोमवार को संसद में प्रस्तुत एक रिपोर्ट में कहा कि छह साल पहले प्रसार भारती द्वारा भारतीय क्रिकेट कंट्रोल बोर्ड (बीसीसीआई) के साथ किए गए एक गलत करार के कारण राजस्व को 3.39 करोड़ रुपये का नुकसान हुआ।  भारतीय जनता पार्टी के नेता मुरली मनोहर जोशी 25 सदस्यीय इस समिति के अध्यक्ष हैं।  रिपोर्ट के मुताबिक प्रसार भारती और बीसीसीआई के बीच यह करार 30 नवम्बर 2005 को हुआ था।  समिति ने छह महीने के भीतर करार का मसौदा तैयार करने में हुई गलती पर स्पष्टीकरण देने, जानबूझ कर राजस्व को पहुंचाए गए नुकसान की भरपाई तथा करार को पूरा करने में शामिल रहे अधिकारियों पर कड़ी कार्रवाई किए जाने की मांग की है।  समिति ने सिफारिश की है कि सात घंटे से कम अवधि वाले मैचों के लिए बीसीसीआई को दी गई अतिरिक्त राशि वापस लेने की कार्रवाई शुरू की जाए।\n",
      "----------------------------------------------------------------------------------------------------\n",
      "अल कायदा की उत्तर अफ्रीकी शाखा ने एक ऑडियो टेप जारी कर ट्यूनीशिया में सरकारविरोधी प्रदर्शनकारियों का समर्थन किया है।\n",
      "----------------------------------------------------------------------------------------------------\n",
      "अंतरराष्ट्रीय आतंकवादी संगठन अल कायदा की उत्तर अफ्रीकी शाखा ने एक ऑडियो टेप जारी कर ट्यूनीशिया में सरकारविरोधी प्रदर्शनकारियों का समर्थन किया है और उनसे अपने बच्चों को हथियारों के प्रशिक्षण के लिए आतंकी शिविरों में भेजने की अपील की है।  समाचार एजेंसी एकेआई के अनुसार जेहादी वेबसाइट्स पर जारी 13 मिनट के ऑडियो संदेश में अल कायदा के नेता अबु मुसाब अब्दुल वदूद ने राष्ट्रपति जैनुल आबेदीन बेन अली के देश छोड़कर चले जाने के बाद ट्यूनीशियावाशियों से यह अनुरोध किया है।   गौरतलब है कि बेरोजगारी, महंगाई और भ्रष्टाचार को लेकर बढ़ रहे जनाक्रोश और प्रदर्शन बढ़ने के कारण अली बेन शुक्रवार को देश छोड़कर सऊदी अरब चले गए थे।  भेजे गए संदेश में वदूद ने कहा है, \"अपने बच्चों को हथियार चलाना सीखने और फौजी अनुभव हासिल करने के लिए हमारे पास भेजिए।\"  मानवाधिकार समूहों के अनुसार ट्यूनीशिया में पिछले साल मध्य दिसम्बर से सुरक्षा बलों और प्रदर्शनकारियों के बीच जारी झड़पों में 60 से अधिक लोग मारे गए।  संसद के पूर्व स्पीकर फॉयद म्बाजा को शनिवार को अंतरिम राष्ट्रपति नियुक्त किया गया।\n",
      "----------------------------------------------------------------------------------------------------\n",
      "हिसार के मिर्चपुर के पास कुछ दबंगों ने दो दलित महिलाओं के साथ बलात्कार करने की कोशिश की और नाकाम रहने पर उन्हें ट्रैक्टर से कुचल दिया।\n",
      "----------------------------------------------------------------------------------------------------\n",
      "हरियाणा के एक गांव में दलितों पर अत्याचार का नया मामला सामने आया है। हिसार के मिर्चपुर के पास कुछ दबंगों ने दो दलित महिलाओं के साथ बलात्कार करने की कोशिश की और नाकाम रहने पर उन्हें ट्रैक्टर से कुचल दिया।  दोनों महिलाओं को गंभीर हालत में पीजीआई रोहतक में भर्ती कराया गया है। यह घटना बीते 13 अप्रैल की है। ये दोनों महिलाएं गेहूं की कटाई के लिए अपने खेत में थीं, जब शराब के नशे में धुत दो लोगों ने उनसे गाली−गलौज और जबरदस्ती की। फिर उन्हें ट्रैक्टर से कुचल दिया।  इस घटना के बाद गुस्साए गांव वालों ने हिसार में सचिवालय के बाहर प्रदर्शन किया। उनका आरोप है कि घटना के 3 दिन बाद भी पुलिस ने इस मामले में एफआईआर दर्ज नहीं की है। हालांकि चौकी इंचार्ज को सस्पेंड कर दिया गया है।\n",
      "----------------------------------------------------------------------------------------------------\n",
      "दिग्गज हारे, नेपाल जीता !\n",
      "पपुआ एंड गिनी को पीटा..और मिल गया बड़ा टिकट!\n",
      "अब वनडे क्रिकेट खेलेगा नेपाल\n",
      "----------------------------------------------------------------------------------------------------\n",
      "— ICC (@ICC) March 15, 2018llowing #CWCQ after it was confirmed they will face Netherlands in the 7th place play-off! pic.twitter.com/t4zidcO4j1\n",
      "They will be an ODI team following #CWCQ after it was confirmed they will face Netherlands in the 7th place play-off! pic.twitter.com/t4zidcO4j1\n",
      "— ICC (@ICC) March 15, 2018s a six to win the game for Nepal and bring up his half-century! pic.twitter.com/TOP3M6XMD8\n",
      "Dipendra Singh Airee smashes a six to win the game for Nepal and bring up his half-century! pic.twitter.com/TOP3M6XMD8\n",
      "— ICC (@ICC) March 15, 2018gh Airee and @IamSandeep25 tore through the Papua New Guinea batting order! pic.twitter.com/Tezc0Qo1k4\n",
      "Take a look as Dipendra Singh Airee and @IamSandeep25 tore through the Papua New Guinea batting order! pic.twitter.com/Tezc0Qo1k4\n",
      "----------------------------------------------------------------------------------------------------\n",
      "दस्तावेजों के मुताबिक प्रधानमंत्री की सहमति के बाद स्पेक्ट्रम की कीमतें तय करने का जिम्मा ग्रुप ऑफ मिनिस्टर्स से लेकर टेलीकॉम मंत्री को दिया गया।\n",
      "----------------------------------------------------------------------------------------------------\n",
      "2जी स्पेक्ट्रम घोटाले में प्रधानमंत्री की भूमिका पर एक बार फिर सवाल उठ रहे हैं। आरटीआई कार्यकर्ता विवेक गर्ग की ओर से मांगी गई जानकारी के मुताबिक प्रधानमंत्री की सहमति के बाद ही स्पेक्ट्रम की कीमतें तय करने का जिम्मा ग्रुप ऑफ मिनिस्टर से लेकर टेलीकॉम मंत्री को दे दिया गया था।  दस्तावेजों के मुताबिक 2006 में प्रधानमंत्री ने दूरसंचार कंपनियों के लिए रक्षा मंत्रालय से अतिरिक्त स्पेक्ट्रम खाली करवाने के मामले में जीओएम के गठन को मंजूरी दी थी।  इस जीओएम में 2−जी स्पेक्ट्रम की कीमतें तय होनी थीं, लेकिन इस दौरान दयानिधि मारन से हुई बातचीत के बाद प्रधानमंत्री ने जीओएम के प्रस्तावित बिंदुओं में फेरबदल करते हुए केवल चार विषयों पर ही जीओएम में चर्चा की अनुमति दी। इस फैसले के बाद 2जी स्पेक्ट्रम की कीमतें तय करने का हक सिर्फ टेलीकॉम मंत्रालय के पास रह गया।\n",
      "----------------------------------------------------------------------------------------------------\n",
      "हिलेरी क्लिंटन ने रविवार को पाकिस्तानी प्रधानमंत्री यूसुफ रजा गिलानी को फोन करके अनजाने में पाकिस्तानी सैनिकों के मारे जाने पर संवेदना जताई।\n",
      "----------------------------------------------------------------------------------------------------\n",
      "नाटो के हवाई हमले के बाद पाकिस्तान और अमेरिका के संबंधों में खटास बढ़ने के बीच अमेरिकी विदेश मंत्री हिलेरी क्लिंटन ने रविवार को पाकिस्तानी प्रधानमंत्री यूसुफ रजा गिलानी को फोन करके अनजाने में पाकिस्तानी सैनिकों के मारे जाने पर संवेदना जताई लेकिन वह उन्हें अफगानिस्तान पर महत्वपूर्ण बैठक में नहीं लेने के निर्णय पर पुनर्विचार करने को तैयार करने में असफल रहीं।  राजधानी इस्लामाबाद स्थित पाकिस्तानी प्रधानमंत्री कार्यालय की ओर से जारी बयान में कहा गया है, हिलेरी ने गिलानी को कल शाम फोन करके पाकिस्तानी सैनिकों की मौत पर व्यक्गित संवेदना जताई।   हिलेरी ने कहा, हमला जानबूझकर नहीं किया गया। उन्होंने पाकिस्तान से इस घटना की जांच की रिपोर्ट आने का इंतजार करने को कहा।  अमेरिकी विदेश मंत्री ने पाकिस्तानी अधिकारियों द्वारा इसे अकारण ही जबर्दस्त हमला करार दिये जाने को लेकर पाकिस्तान की ओर से जताई गई चिंता को दूर करने के प्रयास में कहा, अमेरिका पाकिस्तान की संप्रभुता का काफी सम्मान करता है।\n",
      "----------------------------------------------------------------------------------------------------\n",
      "राजधानी दिल्ली के रोहिणी में कुछ बदमाश दिन दहाड़े एक बिल्डर के दफ्तर पर फायरिंग करके फरार हो गए। यह घटना सेक्टर 11 की है।\n",
      "----------------------------------------------------------------------------------------------------\n",
      "वहां मौजूद मैनेजर ने जब उसके बारे में कोई जानकारी ना होने की बात कही तो युवकों ने पिस्तौल निकाल ली और गोलियां चलानी शुरू कर दी। हमले के समय दफ्तर में मैनेजर के अलावा कुछ और लोग भी मौजूद थे जो कि बाल-बाल बच गए। यह पूरी घटना बिल्डर के दफ्तर में लगे सीसीटीवी में कैद हो गई है। पुलिस ने सीसीटीवी फुटेज के आधार पर जांच शुरू कर दी है।\n",
      "वहां मौजूद मैनेजर ने जब उसके बारे में कोई जानकारी ना होने की बात कही तो युवकों ने पिस्तौल निकाल ली और गोलियां चलानी शुरू कर दी। हमले के समय दफ्तर में मैनेजर के अलावा कुछ और लोग भी मौजूद थे जो कि बाल-बाल बच गए। यह पूरी घटना बिल्डर के दफ्तर में लगे सीसीटीवी में कैद हो गई है। पुलिस ने सीसीटीवी फुटेज के आधार पर जांच शुरू कर दी है।\n",
      "----------------------------------------------------------------------------------------------------\n",
      "प्रधानमंत्री मनमोहन सिंह ने अंतरराष्ट्रीय संस्थानों पर पश्चिमी एकाधिकार को लेकर मंगलवार को सवाल खड़े किए।\n",
      "----------------------------------------------------------------------------------------------------\n",
      "प्रधानमंत्री मनमोहन सिंह ने अंतरराष्ट्रीय संस्थानों पर पश्चिमी एकाधिकार को लेकर मंगलवार को सवाल खड़े किए। सिंह ने कहा कि किसी भी देश के उपलब्ध सर्वश्रेष्ठ व्यक्ति को ये पद दिए जाने चाहिए।   जर्मनी की चांसलर, एंजेला मार्केल के साथ एक संयुक्त संवाददाता सम्मेलन में मनमोहन सिंह ने कहा, \"भारत का दृष्टिकोण जगजाहिर है.. किसी भी देश के उपलब्ध सर्वश्रेष्ठ व्यक्ति को अंतरराष्ट्रीय मुद्रा कोष (आईएमएफ) के प्रमुख का पद दिया जाना चाहिए।\"  मनमोहन सिंह ने कहा कि आईएमएफ प्रमुख के चयन का मुद्दा मार्केल के साथ बातचीत में नहीं उठा, लेकिन उन यूरोपीय ताकतों के लिए यह स्पष्ट संदेश है, जो शीर्ष वित्तीय संस्थानों को अपने नियंत्रण से मुक्त नहीं करना चाहते।  फ्रांस की वित्त मंत्री क्रिस्टीन लेगर्दे, अंतरराष्ट्रीय मुद्रा कोष के प्रबंध निदेशक पद के लिए पहले ही अपनी उम्मीदवारी की घोषणा कर चुकी हैं। जर्मनी भी चाहता है कि यह पद किसी यूरोपीय व्यक्ति को दिया जाए।  मनमोहन सिंह ने सप्ताह में तीसरी बार विश्व बैंक और आईएमएफ में शीर्ष पदों पर पश्चिमी ताकतों के एकाधिकार पर सवाल खड़े किया है।\n",
      "----------------------------------------------------------------------------------------------------\n",
      "फिल्म पीएम नरेंद्र मोदी की शानदार कमाई\n",
      "अब तक कमाए इतने करोड़\n",
      "लोगों को पसंद आ रही है फिल्म\n",
      "----------------------------------------------------------------------------------------------------\n",
      "बता दें कि फिल्म (PM Narendra Modi)की रिलीज को लेकर कई राजनीतिक दलों ने विरोध जताया था. विपक्ष का आरोप था कि फिल्म के जरिए पीएम मोदी (PM Modi) का प्रचार किया जा रहा है. जोकि नियमों के खिलाफ है. विपक्षी दलों की अपील के बाद फिल्म की रिलीज को चुनावी नतीजों के अगले दिन शिफ्ट कर दिया गया था. विवेक ओबरॉय (Vivek Oberoi) के लिए पिछले कुछ साल अच्छे नहीं रहे थे उन्हें उम्मीद थी कि पीएम मोदी के जीवन पर फिल्म बनाकर वह अच्छे दिन लाने में कामयाब रहेंगे लेकिन ऐसा नहीं हुआ. फिल्म समीक्षकों का भी मानना है कि विवेक ओबरॉय  इस फिल्म में और बेहतर कर सकते थे. जोकि वो करने में कामयाब नहीं रहे.  \n",
      "\n",
      "\n",
      "\n",
      "इस फिल्म के चलते विवेक ओबरॉय (Vivek Oberoi) कई बार राजनीतिक दलों के निशाने पर भी आ गए. फिल्म रिलीज से दो दिन पहले विवेक ओबरॉय (Vivek Oberoi) को जान से मारने की धमकी मिली थी. जिसके बाद विवेक को मुंबई पुलिस की तरफ से सुरक्षा भी मुहैया कराई गई. बता दें कि इस फिल्म को ओमंग कुमार (Omang Kumar) ने निर्देशित किया है.\n",
      "----------------------------------------------------------------------------------------------------\n",
      "सुप्रीम कोर्ट ने सलवा जुडुम को खत्म करने के आदेश दिए हैं। छत्तीसगढ़ सरकार ने नक्सलियों से लड़ने के लिए इसका गठन किया था।\n",
      "----------------------------------------------------------------------------------------------------\n",
      "सुप्रीम कोर्ट ने सलवा जुडुम को खत्म करने के आदेश दिए हैं। छत्तीसगढ़ सरकार ने नक्सलियों के खिलाफ लड़ने के लिए सलवा जुडुम का गठन किया था जिसमें आम लोगों को शामिल करके उन्हें हथियार दिए गए। इन्हें एसपीओ यानी स्पेशल पुलिस अफसर कहा जाता है।   सुप्रीम कोर्ट ने अपने फ़ैसले में कहा है कि सरकार एसपीओ की बहाली तो कर सकती है लेकिन उन्हें हथियार नहीं दे सकती। इससे पहले सुनवाई के दौरान भी जजों ने कहा था कि ये सही है कि अपने नागरिकों की हिफ़ाजत करना सरकार की ड्यूटी है लेकिन सवाल इसके तरीके को लेकर है। कोर्ट ने ये भी कहा था कि अगर सलवा जुडुम में शामिल हथियारबंद आदिवासी सरकार के खिलाफ हो गए तो क्या होगा। सुप्रीम कोर्ट ने मार्च 2011 में छत्तीसगढ़ के तीन गांवों में हुई हिंसा और स्वामी अग्निवेश पर हमले की सीबीआई जांच कराने के भी निर्देश दिए हैं।\n",
      "----------------------------------------------------------------------------------------------------\n",
      "अमेरिका में छह महीने की मासूम के साथ बलात्कार और फिर उसकी हत्या करने के मामले में दोषी करार दिए गए व्यक्ति की मौत की सजा दी गई है।\n",
      "----------------------------------------------------------------------------------------------------\n",
      "स्टीव स्मिथ (46) को आज स्थानीय समयानुसार सुबह 10:29 बजे लुकासविल स्थित ओहायो प्रांतीय कारागार में जहर का इंजेक्शन लगाकर मौत की सजा दी गई। स्मिथ ने सितंबर, 1998 में अपनी प्रेमिका की छह माह की बेटी के साथ दुराचार और उसकी हत्या की थी।\n",
      "स्टीव स्मिथ (46) को आज स्थानीय समयानुसार सुबह 10:29 बजे लुकासविल स्थित ओहायो प्रांतीय कारागार में जहर का इंजेक्शन लगाकर मौत की सजा दी गई। स्मिथ ने सितंबर, 1998 में अपनी प्रेमिका की छह माह की बेटी के साथ दुराचार और उसकी हत्या की थी।\n",
      "----------------------------------------------------------------------------------------------------\n",
      "श्रीलंकाई कप्तान संगकारा ने विश्व कप में अपने पहले मैच में कनाडा पर 210 रन की बड़ी जीत का श्रेय अनुभवी बल्लेबाज महेला जयवर्द्धने को दिया।\n",
      "----------------------------------------------------------------------------------------------------\n",
      "श्रीलंका के कप्तान कुमार संगकारा ने विश्व कप में पहले मैच में कनाडा पर 210 रन की बड़ी जीत का श्रेय अनुभवी बल्लेबाज महेला जयवर्द्धने को देते हुए कहा कि उनकी टीम अपनी रणनीति के हिसाब से खेलने में सफल रही।  संगकारा ने मैच के बाद कहा, सलामी बल्लेबाजों ने बड़े स्कोर की नींव रखी, लेकिन असली स्टार जयवर्द्धने थे। उनके साथ बल्लेबाजी करना बहुत आसान रहता है। उनका (विश्व कप के) शुरू में ही लय में आना हमारे लिए अच्छा संकेत है।  संगकारा ने 92 रन बनाए, लेकिन उन्हें शुरू में पांव जमाने में थोड़ी दिक्कत हुई। उन्होंने कहा, इस तरह की विकेट पर पहले सहज होकर खेलना ही सही था और इसलिए मैंने थोड़ा समय लिया। श्रीलंकाई कप्तान ने कहा, हमने जो रणनीति बनाई थी, उसे पूरी तरह से लागू करने में सफल रहे। स्पिनरों और तेज गेंदबाजों ने वही किया, जैसा कि हम चाहते थे।\n",
      "----------------------------------------------------------------------------------------------------\n",
      "कई और शहरों के नाम बदल सकती है यूपी सरकार\n",
      "विपक्ष ने नाम बदलने को लेकर सरकार की आलोचना की\n",
      "सीएम योगी ने कहा- सरकार ने जो किया वह सही\n",
      "----------------------------------------------------------------------------------------------------\n",
      "सुहेलदेव भारतीय समाज पार्टी के नेता ओम प्रकाश राजभर ने कहा कि बीजेपी शहरों के नाम बदलकर लोगों को ध्यान मुख्य मुद्दे से भटकना चाहती है. उन्होंने कहा कि अगर बीजेपी को सही ने मुस्लिम नामों को बदलने में रुचि है तो पहले उन्हें अपने दल के मुस्लिम नेताओं के नाम बदलवाने चाहिए. वहीं शिवसेना ने बीजेपी की नाम बदलों राजनीति को लॉलीपॉप राजनीति बताया है. पार्टी का कहना है कि इस तरह की राजनीति करके पार्टी सिर्फ और सिर्फ लोकसभा चुनाव से पहले लोगों को लुभाने की कोशिश कर रही है. साथ ही वह अपनी विफलताओं को भी छुपाने की कोशिश कर रही है.\n",
      "----------------------------------------------------------------------------------------------------\n"
     ]
    }
   ],
   "source": [
    "a = data.iloc[article_lengths[(article_lengths > 100 ) & (article_lengths <200)].index]\n",
    "for x in a.sample(20).index:\n",
    "    print(data.iloc[x].summary)\n",
    "    print(\"-\"*100)\n",
    "    print(data.iloc[x].article)\n",
    "    print(\"-\"*100)"
   ]
  },
  {
   "cell_type": "code",
   "execution_count": 44,
   "id": "bd50c4e1-6ba6-4cf1-9799-1034bb7c174f",
   "metadata": {},
   "outputs": [],
   "source": [
    "data = data[(article_lengths>120) & (article_lengths<5000)]"
   ]
  },
  {
   "cell_type": "code",
   "execution_count": 45,
   "id": "a71da73c-8975-4682-8751-f53bc0b67b8b",
   "metadata": {},
   "outputs": [
    {
     "data": {
      "text/plain": [
       "(66577, 2)"
      ]
     },
     "execution_count": 45,
     "metadata": {},
     "output_type": "execute_result"
    }
   ],
   "source": [
    "data.shape"
   ]
  },
  {
   "cell_type": "code",
   "execution_count": 46,
   "id": "6aec6c83-9ac9-49f7-b6c6-624534ef71d6",
   "metadata": {},
   "outputs": [],
   "source": [
    "english_word_perc = data.article.map(lambda x : (len(re.findall('[A-Za-z]+', x) )/ len(x.split(\" \"))))"
   ]
  },
  {
   "cell_type": "code",
   "execution_count": 47,
   "id": "15b4a47c-317d-4601-8c8e-26ddb91dcef8",
   "metadata": {},
   "outputs": [
    {
     "data": {
      "text/plain": [
       "count    66577.000000\n",
       "mean         0.040661\n",
       "std          0.135466\n",
       "min          0.000000\n",
       "25%          0.000000\n",
       "50%          0.000000\n",
       "75%          0.003439\n",
       "max         11.607038\n",
       "Name: article, dtype: float64"
      ]
     },
     "execution_count": 47,
     "metadata": {},
     "output_type": "execute_result"
    }
   ],
   "source": [
    "english_word_perc.describe()"
   ]
  },
  {
   "cell_type": "code",
   "execution_count": 48,
   "id": "f8c3b540-f2bf-4d74-a3c7-af13669af2ff",
   "metadata": {},
   "outputs": [
    {
     "name": "stdout",
     "output_type": "stream",
     "text": [
      "10 percetile is  0.0\n",
      "20 percetile is  0.0\n",
      "30 percetile is  0.0\n",
      "40 percetile is  0.0\n",
      "50 percetile is  0.0\n",
      "60 percetile is  0.0\n",
      "70 percetile is  0.0\n",
      "80 percetile is  0.018602729194695397\n",
      "90 percetile is  0.13813004469938778\n",
      "100 percetile is  11.607038123167156\n"
     ]
    }
   ],
   "source": [
    "for x in range(10,101,10):\n",
    "    print(x,\"percetile is \",np.percentile(english_word_perc,x))"
   ]
  },
  {
   "cell_type": "code",
   "execution_count": 49,
   "id": "51d70a38-4922-46ef-ac25-0711940b4086",
   "metadata": {},
   "outputs": [
    {
     "name": "stdout",
     "output_type": "stream",
     "text": [
      "90 percetile is  0.13813004469938778\n",
      "91 percetile is  0.15294117647058825\n",
      "92 percetile is  0.16842105263157894\n",
      "93 percetile is  0.18548387096774194\n",
      "94 percetile is  0.20610687022900764\n",
      "95 percetile is  0.23160963295399903\n",
      "96 percetile is  0.2652418811480932\n",
      "97 percetile is  0.31102283838742434\n",
      "98 percetile is  0.3964113732769536\n",
      "99 percetile is  0.6634492833734893\n",
      "100 percetile is  11.607038123167156\n"
     ]
    }
   ],
   "source": [
    "for x in range(90,101,1):\n",
    "    print(x,\"percetile is \",np.percentile(english_word_perc,x))"
   ]
  },
  {
   "cell_type": "code",
   "execution_count": 50,
   "id": "50c8b3c5-ddbc-416f-ae4f-db6606df3c63",
   "metadata": {},
   "outputs": [
    {
     "name": "stdout",
     "output_type": "stream",
     "text": [
      "99.0 percetile is  0.6634492833734893\n",
      "99.1 percetile is  0.748279727445055\n",
      "99.19999999999999 percetile is  0.8657109085445249\n",
      "99.29999999999998 percetile is  0.926829268292683\n",
      "99.39999999999998 percetile is  0.9596520938794182\n",
      "99.49999999999997 percetile is  0.9933690021231365\n",
      "99.59999999999997 percetile is  1.0258064516129033\n",
      "99.69999999999996 percetile is  1.0811899899899773\n",
      "99.79999999999995 percetile is  1.1454304593583031\n",
      "99.89999999999995 percetile is  1.231102728731888\n"
     ]
    }
   ],
   "source": [
    "for x in np.arange(99,100,.1):\n",
    "    print(x,\"percetile is \",np.percentile(english_word_perc,x))"
   ]
  },
  {
   "cell_type": "code",
   "execution_count": 53,
   "id": "ed8b3f36-2df1-46e1-a838-4426b3d3668a",
   "metadata": {},
   "outputs": [],
   "source": [
    "data = data[english_word_perc<1]"
   ]
  },
  {
   "cell_type": "code",
   "execution_count": 54,
   "id": "741da4b7-ec30-4848-9bed-7c48ea07df79",
   "metadata": {},
   "outputs": [
    {
     "data": {
      "text/plain": [
       "(66250, 2)"
      ]
     },
     "execution_count": 54,
     "metadata": {},
     "output_type": "execute_result"
    }
   ],
   "source": [
    "data.shape"
   ]
  },
  {
   "cell_type": "code",
   "execution_count": 55,
   "id": "6d56d8a5-8542-4b67-8e6d-4fbc1c4dd82f",
   "metadata": {},
   "outputs": [],
   "source": [
    "english_word_perc_summ = data.summary.map(lambda x : (len(re.findall('[A-Za-z]+', x) )/ len(x.split(\" \"))))"
   ]
  },
  {
   "cell_type": "code",
   "execution_count": 56,
   "id": "b2adcb5d-4b98-4b9c-988a-bdac20976d70",
   "metadata": {},
   "outputs": [
    {
     "data": {
      "text/plain": [
       "count    66250.000000\n",
       "mean         0.003197\n",
       "std          0.021853\n",
       "min          0.000000\n",
       "25%          0.000000\n",
       "50%          0.000000\n",
       "75%          0.000000\n",
       "max          1.120000\n",
       "Name: summary, dtype: float64"
      ]
     },
     "execution_count": 56,
     "metadata": {},
     "output_type": "execute_result"
    }
   ],
   "source": [
    "english_word_perc_summ.describe()"
   ]
  },
  {
   "cell_type": "code",
   "execution_count": 57,
   "id": "1e124fc5-0120-4add-9ad8-e0433cae77ce",
   "metadata": {},
   "outputs": [
    {
     "name": "stdout",
     "output_type": "stream",
     "text": [
      "90 percetile is  0.0\n",
      "91 percetile is  0.0\n",
      "92 percetile is  0.0\n",
      "93 percetile is  0.0\n",
      "94 percetile is  0.0\n",
      "95 percetile is  0.0\n",
      "96 percetile is  0.027777777777777776\n",
      "97 percetile is  0.03571428571428571\n",
      "98 percetile is  0.05\n",
      "99 percetile is  0.08333333333333333\n",
      "100 percetile is  1.12\n"
     ]
    }
   ],
   "source": [
    "for x in range(90,101,1):\n",
    "    print(x,\"percetile is \",np.percentile(english_word_perc_summ,x))\n",
    "    "
   ]
  },
  {
   "cell_type": "code",
   "execution_count": 58,
   "id": "9aec911c-adaa-443f-b9e4-41cb296bbe1b",
   "metadata": {},
   "outputs": [
    {
     "name": "stdout",
     "output_type": "stream",
     "text": [
      "99.0 percetile is  0.6634492833734893\n",
      "99.1 percetile is  0.748279727445055\n",
      "99.19999999999999 percetile is  0.8657109085445249\n",
      "99.29999999999998 percetile is  0.926829268292683\n",
      "99.39999999999998 percetile is  0.9596520938794182\n",
      "99.49999999999997 percetile is  0.9933690021231365\n",
      "99.59999999999997 percetile is  1.0258064516129033\n",
      "99.69999999999996 percetile is  1.0811899899899773\n",
      "99.79999999999995 percetile is  1.1454304593583031\n",
      "99.89999999999995 percetile is  1.231102728731888\n"
     ]
    }
   ],
   "source": [
    "for x in np.arange(99,100,.1):\n",
    "    print(x,\"percetile is \",np.percentile(english_word_perc,x))"
   ]
  },
  {
   "cell_type": "code",
   "execution_count": 59,
   "id": "a31d5999-1619-44e2-b1a0-578ac5072da9",
   "metadata": {},
   "outputs": [],
   "source": [
    "data = data[english_word_perc_summ<1.1]"
   ]
  },
  {
   "cell_type": "code",
   "execution_count": 60,
   "id": "f892f6ea-7b72-4f4f-ab40-0729ea0486a0",
   "metadata": {},
   "outputs": [
    {
     "data": {
      "text/plain": [
       "(66249, 2)"
      ]
     },
     "execution_count": 60,
     "metadata": {},
     "output_type": "execute_result"
    }
   ],
   "source": [
    "data.shape"
   ]
  },
  {
   "cell_type": "code",
   "execution_count": 62,
   "id": "e2c4c9f9-634b-4a40-bbf9-2d1ee996f5ab",
   "metadata": {},
   "outputs": [],
   "source": [
    "data.to_csv(\"data/data_without_outlier.csv\",index=False)"
   ]
  },
  {
   "cell_type": "code",
   "execution_count": null,
   "id": "55aa837a-41d4-481d-9ae6-8db421c4734d",
   "metadata": {},
   "outputs": [],
   "source": []
  }
 ],
 "metadata": {
  "kernelspec": {
   "display_name": "Python 3 (ipykernel)",
   "language": "python",
   "name": "python3"
  },
  "language_info": {
   "codemirror_mode": {
    "name": "ipython",
    "version": 3
   },
   "file_extension": ".py",
   "mimetype": "text/x-python",
   "name": "python",
   "nbconvert_exporter": "python",
   "pygments_lexer": "ipython3",
   "version": "3.8.10"
  }
 },
 "nbformat": 4,
 "nbformat_minor": 5
}
