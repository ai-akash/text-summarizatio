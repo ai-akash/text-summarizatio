{
 "cells": [
  {
   "cell_type": "code",
   "execution_count": 2,
   "id": "00f1c445-5303-400d-9b87-0b40c20b8677",
   "metadata": {},
   "outputs": [],
   "source": [
    "import pandas as pd\n",
    "import numpy as np\n",
    "from gensim.models import Word2Vec"
   ]
  },
  {
   "cell_type": "code",
   "execution_count": 2,
   "id": "e8eb2517-af89-4d6f-9698-1dc2b985f107",
   "metadata": {},
   "outputs": [
    {
     "ename": "AttributeError",
     "evalue": "'float' object has no attribute 'split'",
     "output_type": "error",
     "traceback": [
      "\u001b[0;31m---------------------------------------------------------------------------\u001b[0m",
      "\u001b[0;31mAttributeError\u001b[0m                            Traceback (most recent call last)",
      "\u001b[0;32m<timed exec>\u001b[0m in \u001b[0;36m<module>\u001b[0;34m\u001b[0m\n",
      "\u001b[0;31mAttributeError\u001b[0m: 'float' object has no attribute 'split'"
     ]
    }
   ],
   "source": [
    "%%time\n",
    "data = pd.read_csv(\"data/preprocessed_data.csv\")\n",
    "inp = data.article.to_list()\n",
    "trg = data.summary.to_list()\n",
    "inp.extend(trg)\n",
    "mat = []\n",
    "for x in inp:\n",
    "    mat.append(x.split(\" \"))\n"
   ]
  },
  {
   "cell_type": "code",
   "execution_count": 4,
   "id": "bdd94b02-7f9f-48a6-8d21-d92b3cc4634a",
   "metadata": {},
   "outputs": [
    {
     "data": {
      "text/plain": [
       "summary    1\n",
       "article    0\n",
       "dtype: int64"
      ]
     },
     "execution_count": 4,
     "metadata": {},
     "output_type": "execute_result"
    }
   ],
   "source": [
    "data.isna().sum()"
   ]
  },
  {
   "cell_type": "code",
   "execution_count": 5,
   "id": "caed8395-ed93-4af3-88f9-b1e2554d51b6",
   "metadata": {},
   "outputs": [
    {
     "name": "stdout",
     "output_type": "stream",
     "text": [
      "CPU times: user 4.76 s, sys: 183 ms, total: 4.94 s\n",
      "Wall time: 4.94 s\n"
     ]
    }
   ],
   "source": [
    "%%time\n",
    "data = pd.read_csv(\"data/preprocessed_data.csv\")\n",
    "data.dropna(inplace=True)\n",
    "inp = data.article.to_list()\n",
    "trg = data.summary.to_list()\n",
    "inp.extend(trg)"
   ]
  },
  {
   "cell_type": "code",
   "execution_count": 6,
   "id": "845c6332-c499-440f-8877-db5c5b5ce238",
   "metadata": {},
   "outputs": [],
   "source": [
    "mat = []\n",
    "for x in inp:\n",
    "    mat.append(x.split(\" \"))"
   ]
  },
  {
   "cell_type": "code",
   "execution_count": 7,
   "id": "f11253ab-7bbb-4c08-aad6-982bdc2087d2",
   "metadata": {},
   "outputs": [
    {
     "data": {
      "text/plain": [
       "132496"
      ]
     },
     "execution_count": 7,
     "metadata": {},
     "output_type": "execute_result"
    }
   ],
   "source": [
    "len(mat)"
   ]
  },
  {
   "cell_type": "code",
   "execution_count": 8,
   "id": "7be76570-7728-40f9-92a5-1e198c07ff7f",
   "metadata": {},
   "outputs": [
    {
     "name": "stdout",
     "output_type": "stream",
     "text": [
      "Word2Vec(vocab=260268, vector_size=200, alpha=0.025)\n"
     ]
    }
   ],
   "source": [
    "# train model\n",
    "model = Word2Vec(mat, min_count=1,vector_size = 200,epochs =20)\n",
    "print(model)\n",
    "# save model\n",
    "model.save('model.bin')\n"
   ]
  },
  {
   "cell_type": "code",
   "execution_count": 3,
   "id": "8d10c3b3-3355-4bbd-9484-6c2ed0a2359e",
   "metadata": {},
   "outputs": [
    {
     "name": "stdout",
     "output_type": "stream",
     "text": [
      "Word2Vec(vocab=260268, vector_size=200, alpha=0.025)\n"
     ]
    }
   ],
   "source": [
    "# load model\n",
    "new_model = Word2Vec.load('model.bin')\n",
    "print(new_model)"
   ]
  },
  {
   "cell_type": "code",
   "execution_count": 10,
   "id": "3b8a8236-5cb8-4a02-aa71-e83cf4962049",
   "metadata": {},
   "outputs": [],
   "source": [
    "sims = new_model.wv.most_similar('मंत्री', topn=10)"
   ]
  },
  {
   "cell_type": "code",
   "execution_count": 11,
   "id": "0e158f92-d150-4534-9a36-d76d49af21cc",
   "metadata": {},
   "outputs": [
    {
     "data": {
      "text/plain": [
       "[('राज्यमंत्री', 0.8364041447639465),\n",
       " ('मंत्रालय', 0.6835376620292664),\n",
       " ('सचिव', 0.6728880405426025),\n",
       " ('राज्\\u200dयमंत्री', 0.6356116533279419),\n",
       " ('स्चैउबले', 0.5993679165840149),\n",
       " ('मंत्रियों', 0.5863147377967834),\n",
       " ('बहर', 0.5853128433227539),\n",
       " ('गृहमंत्री', 0.5697900652885437),\n",
       " ('फ्रिएड्रिक', 0.5566253066062927),\n",
       " ('वदलामणि', 0.5525030493736267)]"
      ]
     },
     "execution_count": 11,
     "metadata": {},
     "output_type": "execute_result"
    }
   ],
   "source": [
    "sims"
   ]
  },
  {
   "cell_type": "code",
   "execution_count": 12,
   "id": "d0cfebf7-3d09-4cd2-8b68-f30d327076c6",
   "metadata": {},
   "outputs": [
    {
     "data": {
      "text/plain": [
       "[('बदमाश', 0.49335846304893494),\n",
       " ('चोरों', 0.4707080125808716),\n",
       " ('लुटेरे', 0.4601743519306183),\n",
       " ('नकाबपोश', 0.44753843545913696),\n",
       " ('कैशियर', 0.43645697832107544),\n",
       " ('छेदकर', 0.4220343232154846),\n",
       " ('नहींभागीदार', 0.42154747247695923),\n",
       " ('‘अपर्याप्त', 0.420659601688385),\n",
       " ('आरबीएल', 0.4206062853336334),\n",
       " ('रॉबरी', 0.4132143259048462)]"
      ]
     },
     "execution_count": 12,
     "metadata": {},
     "output_type": "execute_result"
    }
   ],
   "source": [
    "new_model.wv.most_similar('चोर', topn=10)"
   ]
  },
  {
   "cell_type": "code",
   "execution_count": null,
   "id": "5f55b63e-37f6-4094-a1d4-3adc6edfdf35",
   "metadata": {},
   "outputs": [],
   "source": [
    "new_model."
   ]
  }
 ],
 "metadata": {
  "kernelspec": {
   "display_name": "Python 3 (ipykernel)",
   "language": "python",
   "name": "python3"
  },
  "language_info": {
   "codemirror_mode": {
    "name": "ipython",
    "version": 3
   },
   "file_extension": ".py",
   "mimetype": "text/x-python",
   "name": "python",
   "nbconvert_exporter": "python",
   "pygments_lexer": "ipython3",
   "version": "3.8.10"
  }
 },
 "nbformat": 4,
 "nbformat_minor": 5
}
