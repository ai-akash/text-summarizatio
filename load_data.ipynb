{
 "cells": [
  {
   "cell_type": "code",
   "execution_count": 1,
   "id": "625b04ce-b782-422f-b9e6-b5456918a897",
   "metadata": {},
   "outputs": [],
   "source": [
    "import pandas as pd"
   ]
  },
  {
   "cell_type": "code",
   "execution_count": 2,
   "id": "cc652ac7-4cc2-4e51-b802-103722f3a22b",
   "metadata": {},
   "outputs": [
    {
     "data": {
      "text/plain": [
       "131072"
      ]
     },
     "execution_count": 2,
     "metadata": {},
     "output_type": "execute_result"
    }
   ],
   "source": [
    "import sys\n",
    "import csv\n",
    "csv.field_size_limit(sys.maxsize)"
   ]
  },
  {
   "cell_type": "code",
   "execution_count": 3,
   "id": "0c1dea93-ca8b-4994-8c87-ff3298365ea8",
   "metadata": {},
   "outputs": [
    {
     "data": {
      "text/html": [
       "<div>\n",
       "<style scoped>\n",
       "    .dataframe tbody tr th:only-of-type {\n",
       "        vertical-align: middle;\n",
       "    }\n",
       "\n",
       "    .dataframe tbody tr th {\n",
       "        vertical-align: top;\n",
       "    }\n",
       "\n",
       "    .dataframe thead th {\n",
       "        text-align: right;\n",
       "    }\n",
       "</style>\n",
       "<table border=\"1\" class=\"dataframe\">\n",
       "  <thead>\n",
       "    <tr style=\"text-align: right;\">\n",
       "      <th></th>\n",
       "      <th>headline</th>\n",
       "      <th>summary</th>\n",
       "      <th>article</th>\n",
       "    </tr>\n",
       "  </thead>\n",
       "  <tbody>\n",
       "    <tr>\n",
       "      <th>0</th>\n",
       "      <td>उत्तर भारत में शीत लहर जारी, लेह में पारा सात ...</td>\n",
       "      <td>NaN</td>\n",
       "      <td>उत्तर भारत में शीत लहर जारी है और पहाड़ी क्षेत...</td>\n",
       "    </tr>\n",
       "    <tr>\n",
       "      <th>1</th>\n",
       "      <td>यमन : विद्रोहियों के कब्जे वाले ताएज शहर के नि...</td>\n",
       "      <td>NaN</td>\n",
       "      <td>यमन सरकार के समर्थक बलों के विद्रोहियों के कब्...</td>\n",
       "    </tr>\n",
       "    <tr>\n",
       "      <th>2</th>\n",
       "      <td>केन्या में आतंकियों ने बस को अगवा कर 28 लोगों ...</td>\n",
       "      <td>NaN</td>\n",
       "      <td>केन्या के उत्तर में, सोमालिया के अल-शबाब गुट क...</td>\n",
       "    </tr>\n",
       "    <tr>\n",
       "      <th>3</th>\n",
       "      <td>रिम करेगा दो हजार कर्मचारियों की छंटनी</td>\n",
       "      <td>ब्लैकबेरी हैंडसेट बनाने वाली कनाडा की कंपनी रि...</td>\n",
       "      <td>ब्लैकबेरी हैंडसेट बनाने वाली कनाडा की कंपनी रि...</td>\n",
       "    </tr>\n",
       "    <tr>\n",
       "      <th>4</th>\n",
       "      <td>Puducherry: उपराज्यपाल किरण बेदी से हुआ विवाद ...</td>\n",
       "      <td>NaN</td>\n",
       "      <td>केंद्र शासित प्रदेश पुडुचेरी के मुख्यमंत्री  व...</td>\n",
       "    </tr>\n",
       "  </tbody>\n",
       "</table>\n",
       "</div>"
      ],
      "text/plain": [
       "                                            headline  \\\n",
       "0  उत्तर भारत में शीत लहर जारी, लेह में पारा सात ...   \n",
       "1  यमन : विद्रोहियों के कब्जे वाले ताएज शहर के नि...   \n",
       "2  केन्या में आतंकियों ने बस को अगवा कर 28 लोगों ...   \n",
       "3           रिम करेगा दो हजार कर्मचारियों की छंटनी     \n",
       "4  Puducherry: उपराज्यपाल किरण बेदी से हुआ विवाद ...   \n",
       "\n",
       "                                             summary  \\\n",
       "0                                                NaN   \n",
       "1                                                NaN   \n",
       "2                                                NaN   \n",
       "3  ब्लैकबेरी हैंडसेट बनाने वाली कनाडा की कंपनी रि...   \n",
       "4                                                NaN   \n",
       "\n",
       "                                             article  \n",
       "0  उत्तर भारत में शीत लहर जारी है और पहाड़ी क्षेत...  \n",
       "1  यमन सरकार के समर्थक बलों के विद्रोहियों के कब्...  \n",
       "2  केन्या के उत्तर में, सोमालिया के अल-शबाब गुट क...  \n",
       "3  ब्लैकबेरी हैंडसेट बनाने वाली कनाडा की कंपनी रि...  \n",
       "4  केंद्र शासित प्रदेश पुडुचेरी के मुख्यमंत्री  व...  "
      ]
     },
     "metadata": {},
     "output_type": "display_data"
    },
    {
     "data": {
      "text/html": [
       "<div>\n",
       "<style scoped>\n",
       "    .dataframe tbody tr th:only-of-type {\n",
       "        vertical-align: middle;\n",
       "    }\n",
       "\n",
       "    .dataframe tbody tr th {\n",
       "        vertical-align: top;\n",
       "    }\n",
       "\n",
       "    .dataframe thead th {\n",
       "        text-align: right;\n",
       "    }\n",
       "</style>\n",
       "<table border=\"1\" class=\"dataframe\">\n",
       "  <thead>\n",
       "    <tr style=\"text-align: right;\">\n",
       "      <th></th>\n",
       "      <th>headline</th>\n",
       "      <th>summary</th>\n",
       "      <th>article</th>\n",
       "    </tr>\n",
       "  </thead>\n",
       "  <tbody>\n",
       "    <tr>\n",
       "      <th>0</th>\n",
       "      <td>पाकिस्तानी जासूस को मिली अहम खुफिया जानकारी, ज...</td>\n",
       "      <td>पाकिस्तानी जासूस ने खुद को सैन्य कमांडर बताया ...</td>\n",
       "      <td>जम्मू कश्मीर पुलिस के एक अधिकारी ने घाटी में प...</td>\n",
       "    </tr>\n",
       "    <tr>\n",
       "      <th>1</th>\n",
       "      <td>अमर को अस्पताल से छुट्टी, बोले, सपा से अब नाम ...</td>\n",
       "      <td>समाजवादी पार्टी के पूर्व महासचिव और राज्यसभा स...</td>\n",
       "      <td>नोट के बदले वोट मामले में आरोपी समाजवादी पार्ट...</td>\n",
       "    </tr>\n",
       "    <tr>\n",
       "      <th>2</th>\n",
       "      <td>केजरीवाल ने उप राज्यपाल से सिख विरोधी दंगों की...</td>\n",
       "      <td>NaN</td>\n",
       "      <td>आम आदमी पार्टी (आप) और अकाली दल ने बुधवार को द...</td>\n",
       "    </tr>\n",
       "    <tr>\n",
       "      <th>3</th>\n",
       "      <td>सैलरी नेगोश‍िएट करते वक्‍त भूलकर भी न कहें ये ...</td>\n",
       "      <td>सैलरी के बारे में बात करते वक्‍त पर्सनल बातें ...</td>\n",
       "      <td>VIDEO: अब सैलरी होगी कम, सेविंग ज़्यादा!</td>\n",
       "    </tr>\n",
       "    <tr>\n",
       "      <th>4</th>\n",
       "      <td>इंटरनेट से पता कीजिए कहां तक पहुंची ट्रेन</td>\n",
       "      <td>आईआईटी कानपुर द्वारा तैयार सिमरन (सैटेलाइट इमे...</td>\n",
       "      <td>रेल नेविगेशन से संबंधित आईआईटी कानपुर की महत्व...</td>\n",
       "    </tr>\n",
       "  </tbody>\n",
       "</table>\n",
       "</div>"
      ],
      "text/plain": [
       "                                            headline  \\\n",
       "0  पाकिस्तानी जासूस को मिली अहम खुफिया जानकारी, ज...   \n",
       "1  अमर को अस्पताल से छुट्टी, बोले, सपा से अब नाम ...   \n",
       "2  केजरीवाल ने उप राज्यपाल से सिख विरोधी दंगों की...   \n",
       "3  सैलरी नेगोश‍िएट करते वक्‍त भूलकर भी न कहें ये ...   \n",
       "4        इंटरनेट से पता कीजिए कहां तक पहुंची ट्रेन     \n",
       "\n",
       "                                             summary  \\\n",
       "0  पाकिस्तानी जासूस ने खुद को सैन्य कमांडर बताया ...   \n",
       "1  समाजवादी पार्टी के पूर्व महासचिव और राज्यसभा स...   \n",
       "2                                                NaN   \n",
       "3  सैलरी के बारे में बात करते वक्‍त पर्सनल बातें ...   \n",
       "4  आईआईटी कानपुर द्वारा तैयार सिमरन (सैटेलाइट इमे...   \n",
       "\n",
       "                                             article  \n",
       "0  जम्मू कश्मीर पुलिस के एक अधिकारी ने घाटी में प...  \n",
       "1  नोट के बदले वोट मामले में आरोपी समाजवादी पार्ट...  \n",
       "2  आम आदमी पार्टी (आप) और अकाली दल ने बुधवार को द...  \n",
       "3            VIDEO: अब सैलरी होगी कम, सेविंग ज़्यादा!  \n",
       "4  रेल नेविगेशन से संबंधित आईआईटी कानपुर की महत्व...  "
      ]
     },
     "metadata": {},
     "output_type": "display_data"
    },
    {
     "name": "stdout",
     "output_type": "stream",
     "text": [
      "<class 'pandas.core.frame.DataFrame'>\n",
      "RangeIndex: 147166 entries, 0 to 147165\n",
      "Data columns (total 3 columns):\n",
      " #   Column    Non-Null Count   Dtype \n",
      "---  ------    --------------   ----- \n",
      " 0   headline  147166 non-null  object\n",
      " 1   summary   69033 non-null   object\n",
      " 2   article   143867 non-null  object\n",
      "dtypes: object(3)\n",
      "memory usage: 3.4+ MB\n"
     ]
    },
    {
     "data": {
      "text/plain": [
       "None"
      ]
     },
     "metadata": {},
     "output_type": "display_data"
    },
    {
     "name": "stdout",
     "output_type": "stream",
     "text": [
      "<class 'pandas.core.frame.DataFrame'>\n",
      "RangeIndex: 36854 entries, 0 to 36853\n",
      "Data columns (total 3 columns):\n",
      " #   Column    Non-Null Count  Dtype \n",
      "---  ------    --------------  ----- \n",
      " 0   headline  36854 non-null  object\n",
      " 1   summary   17265 non-null  object\n",
      " 2   article   35968 non-null  object\n",
      "dtypes: object(3)\n",
      "memory usage: 863.9+ KB\n"
     ]
    },
    {
     "data": {
      "text/plain": [
       "None"
      ]
     },
     "metadata": {},
     "output_type": "display_data"
    }
   ],
   "source": [
    "train_data = pd.read_csv(\"data/train.csv\",engine = \"python\",encoding = \"utf-8\")\n",
    "test_data = pd.read_csv(\"data/test.csv\",engine = \"python\",encoding = \"utf-8\")\n",
    "display(train_data.head())\n",
    "display(test_data.head())\n",
    "display(train_data.info())\n",
    "display(test_data.info())"
   ]
  },
  {
   "cell_type": "code",
   "execution_count": 4,
   "id": "0a15b0a0-2beb-4286-b067-f0124ab0030f",
   "metadata": {},
   "outputs": [
    {
     "name": "stdout",
     "output_type": "stream",
     "text": [
      "<class 'pandas.core.frame.DataFrame'>\n",
      "Int64Index: 184020 entries, 0 to 36853\n",
      "Data columns (total 3 columns):\n",
      " #   Column    Non-Null Count   Dtype \n",
      "---  ------    --------------   ----- \n",
      " 0   headline  184020 non-null  object\n",
      " 1   summary   86298 non-null   object\n",
      " 2   article   179835 non-null  object\n",
      "dtypes: object(3)\n",
      "memory usage: 5.6+ MB\n"
     ]
    },
    {
     "data": {
      "text/plain": [
       "None"
      ]
     },
     "metadata": {},
     "output_type": "display_data"
    }
   ],
   "source": [
    "data = train_data.append(test_data)\n",
    "display(data.info())"
   ]
  },
  {
   "cell_type": "code",
   "execution_count": 5,
   "id": "db9e9805-f7eb-417e-a661-df35bdb36039",
   "metadata": {},
   "outputs": [],
   "source": [
    "data.drop(\"headline\",axis =1 ,inplace = True)"
   ]
  },
  {
   "cell_type": "code",
   "execution_count": 6,
   "id": "10e9cca0-cdfc-4455-ae63-c74f83c6631c",
   "metadata": {},
   "outputs": [],
   "source": [
    "data.dropna(inplace=True)"
   ]
  },
  {
   "cell_type": "code",
   "execution_count": 7,
   "id": "bbe5d05a-fd2f-447e-95d7-b55611ad15fc",
   "metadata": {},
   "outputs": [],
   "source": [
    "data.to_csv(\"data/data.csv\",index=False)"
   ]
  },
  {
   "cell_type": "code",
   "execution_count": 8,
   "id": "e053b2e9-fa7d-4539-b21e-a5ee0396f88b",
   "metadata": {},
   "outputs": [],
   "source": [
    "del train_data,test_data,data"
   ]
  },
  {
   "cell_type": "code",
   "execution_count": 9,
   "id": "66390f1b-1565-4b73-a0a3-51025a909a86",
   "metadata": {},
   "outputs": [
    {
     "data": {
      "text/html": [
       "<div>\n",
       "<style scoped>\n",
       "    .dataframe tbody tr th:only-of-type {\n",
       "        vertical-align: middle;\n",
       "    }\n",
       "\n",
       "    .dataframe tbody tr th {\n",
       "        vertical-align: top;\n",
       "    }\n",
       "\n",
       "    .dataframe thead th {\n",
       "        text-align: right;\n",
       "    }\n",
       "</style>\n",
       "<table border=\"1\" class=\"dataframe\">\n",
       "  <thead>\n",
       "    <tr style=\"text-align: right;\">\n",
       "      <th></th>\n",
       "      <th>summary</th>\n",
       "      <th>article</th>\n",
       "    </tr>\n",
       "  </thead>\n",
       "  <tbody>\n",
       "    <tr>\n",
       "      <th>0</th>\n",
       "      <td>ब्लैकबेरी हैंडसेट बनाने वाली कनाडा की कंपनी रि...</td>\n",
       "      <td>ब्लैकबेरी हैंडसेट बनाने वाली कनाडा की कंपनी रि...</td>\n",
       "    </tr>\n",
       "    <tr>\n",
       "      <th>1</th>\n",
       "      <td>श्रद्धांजलि सभा के दौरान अचानक खराब हुई हिलेरी...</td>\n",
       "      <td>अमेरिका में राष्ट्रपति पद के लिए डेमोक्रेटिक प...</td>\n",
       "    </tr>\n",
       "    <tr>\n",
       "      <th>2</th>\n",
       "      <td>पूर्व भारतीय कप्तान अनिल कुंबले का मानना है कि...</td>\n",
       "      <td>पूर्व भारतीय क्रिकेट कप्तान अनिल कुंबले का मान...</td>\n",
       "    </tr>\n",
       "    <tr>\n",
       "      <th>3</th>\n",
       "      <td>इंडिगो के ग्राउंड स्टाफ ने यात्री से की हाथापा...</td>\n",
       "      <td>इंडिगो एयरलाइन के प्रेसीडेंट और डायरेक्टर आदित...</td>\n",
       "    </tr>\n",
       "    <tr>\n",
       "      <th>4</th>\n",
       "      <td>मीजान जाफरी ने किया खुलासा\\r\\nनव्या नंदा को बत...</td>\n",
       "      <td>संजय लीला भंसाली की फिल्म 'मलाल' से बॉलीवुड मे...</td>\n",
       "    </tr>\n",
       "    <tr>\n",
       "      <th>...</th>\n",
       "      <td>...</td>\n",
       "      <td>...</td>\n",
       "    </tr>\n",
       "    <tr>\n",
       "      <th>86293</th>\n",
       "      <td>हैदराबाद के पास एक लॉरी में आग लगने से कम से क...</td>\n",
       "      <td>हैदराबाद के पास एक लॉरी में आग लगने से कम से क...</td>\n",
       "    </tr>\n",
       "    <tr>\n",
       "      <th>86294</th>\n",
       "      <td>आजमगढ़ में विभागीय पदोन्नति के लिए आयोजित शारी...</td>\n",
       "      <td>उत्तर प्रदेश के आजमगढ़ जिले में बुधवार को विभा...</td>\n",
       "    </tr>\n",
       "    <tr>\n",
       "      <th>86295</th>\n",
       "      <td>देश को आज़ाद हुए आज 65 साल हो चुके हैं। देशभर म...</td>\n",
       "      <td>देश को आज़ाद हुए आज 65 साल हो चुके हैं। देशभर म...</td>\n",
       "    </tr>\n",
       "    <tr>\n",
       "      <th>86296</th>\n",
       "      <td>नियंत्रण रेखा पर चल रहे तनाव को कम करने के लिए...</td>\n",
       "      <td>नियंत्रण रेखा पर चल रहे तनाव को कम करने के लिए...</td>\n",
       "    </tr>\n",
       "    <tr>\n",
       "      <th>86297</th>\n",
       "      <td>आतंकवादी संगठन अलकायदा की नींव रखने वाला ओसामा...</td>\n",
       "      <td>आतंकवादी संगठन अलकायदा की नींव रखने वाला ओसामा...</td>\n",
       "    </tr>\n",
       "  </tbody>\n",
       "</table>\n",
       "<p>86298 rows × 2 columns</p>\n",
       "</div>"
      ],
      "text/plain": [
       "                                                 summary  \\\n",
       "0      ब्लैकबेरी हैंडसेट बनाने वाली कनाडा की कंपनी रि...   \n",
       "1      श्रद्धांजलि सभा के दौरान अचानक खराब हुई हिलेरी...   \n",
       "2      पूर्व भारतीय कप्तान अनिल कुंबले का मानना है कि...   \n",
       "3      इंडिगो के ग्राउंड स्टाफ ने यात्री से की हाथापा...   \n",
       "4      मीजान जाफरी ने किया खुलासा\\r\\nनव्या नंदा को बत...   \n",
       "...                                                  ...   \n",
       "86293  हैदराबाद के पास एक लॉरी में आग लगने से कम से क...   \n",
       "86294  आजमगढ़ में विभागीय पदोन्नति के लिए आयोजित शारी...   \n",
       "86295  देश को आज़ाद हुए आज 65 साल हो चुके हैं। देशभर म...   \n",
       "86296  नियंत्रण रेखा पर चल रहे तनाव को कम करने के लिए...   \n",
       "86297  आतंकवादी संगठन अलकायदा की नींव रखने वाला ओसामा...   \n",
       "\n",
       "                                                 article  \n",
       "0      ब्लैकबेरी हैंडसेट बनाने वाली कनाडा की कंपनी रि...  \n",
       "1      अमेरिका में राष्ट्रपति पद के लिए डेमोक्रेटिक प...  \n",
       "2      पूर्व भारतीय क्रिकेट कप्तान अनिल कुंबले का मान...  \n",
       "3      इंडिगो एयरलाइन के प्रेसीडेंट और डायरेक्टर आदित...  \n",
       "4      संजय लीला भंसाली की फिल्म 'मलाल' से बॉलीवुड मे...  \n",
       "...                                                  ...  \n",
       "86293  हैदराबाद के पास एक लॉरी में आग लगने से कम से क...  \n",
       "86294  उत्तर प्रदेश के आजमगढ़ जिले में बुधवार को विभा...  \n",
       "86295  देश को आज़ाद हुए आज 65 साल हो चुके हैं। देशभर म...  \n",
       "86296  नियंत्रण रेखा पर चल रहे तनाव को कम करने के लिए...  \n",
       "86297  आतंकवादी संगठन अलकायदा की नींव रखने वाला ओसामा...  \n",
       "\n",
       "[86298 rows x 2 columns]"
      ]
     },
     "execution_count": 9,
     "metadata": {},
     "output_type": "execute_result"
    }
   ],
   "source": [
    "pd.read_csv(\"data/data.csv\")"
   ]
  },
  {
   "cell_type": "code",
   "execution_count": null,
   "id": "054eaeb9-a26f-42ad-9bae-df6990ad60f8",
   "metadata": {},
   "outputs": [],
   "source": []
  }
 ],
 "metadata": {
  "kernelspec": {
   "display_name": "Python 3 (ipykernel)",
   "language": "python",
   "name": "python3"
  },
  "language_info": {
   "codemirror_mode": {
    "name": "ipython",
    "version": 3
   },
   "file_extension": ".py",
   "mimetype": "text/x-python",
   "name": "python",
   "nbconvert_exporter": "python",
   "pygments_lexer": "ipython3",
   "version": "3.8.10"
  }
 },
 "nbformat": 4,
 "nbformat_minor": 5
}
